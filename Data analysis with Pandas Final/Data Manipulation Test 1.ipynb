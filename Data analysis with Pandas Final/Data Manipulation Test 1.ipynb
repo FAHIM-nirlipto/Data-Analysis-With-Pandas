{
 "cells": [
  {
   "cell_type": "markdown",
   "metadata": {},
   "source": [
    "# Welcome ... \n",
    "## Let's play with pandas"
   ]
  },
  {
   "cell_type": "markdown",
   "metadata": {},
   "source": [
    "."
   ]
  },
  {
   "cell_type": "markdown",
   "metadata": {},
   "source": [
    "."
   ]
  },
  {
   "cell_type": "markdown",
   "metadata": {},
   "source": [
    "### Problem 1:  Let's we have a csv file of some of the BMW cars ! \n",
    "\n",
    "#### (a) Now make a DataFrame from it using  a few listed columns which are :- \t maker_key,\t  model_key,     mileage,\t   engine_power,     fuel,\t   paint_color,     \tcar_type,    price,   registration_date,   sold_at\n",
    "\n",
    "#### (b) Show cars which are sold after 2018-04-01\n",
    "\n",
    "#### (c) Show cars which are registered before 2015\n",
    "\n",
    "#### (d) Show cars which are either black or red\n",
    "\n",
    "#### (e) Add a column named 'category' that shows 'Affordable' if price is less than 30000 dollars. Otherwise shows 'Luxury'\n",
    "\n",
    "#### (f) Add a column named 'condition' that shows 'ShortRun' if mileage is less than 100000 miles and registered after 2013 . Otherwise shows 'LongRun'\n",
    "\n",
    "#### (g) Add a column named 'reality' that shows 'Practical' if it consume disel and neither convertible nor coupe. Otherwise shows 'Fantasy'\n",
    "\n",
    "\n"
   ]
  },
  {
   "cell_type": "markdown",
   "metadata": {},
   "source": [
    "."
   ]
  },
  {
   "cell_type": "markdown",
   "metadata": {},
   "source": [
    "."
   ]
  },
  {
   "cell_type": "markdown",
   "metadata": {},
   "source": [
    "."
   ]
  },
  {
   "cell_type": "markdown",
   "metadata": {},
   "source": [
    "### Problem 2:  Let's we have a csv file of a company named 'employees.csv'\n",
    "\n",
    "#### (a) Add a column named 'Senior by' that shows 'Experience' if only he have at least 12 years job experience here. Else only if his senior mangement value is True then shows 'Skill' . If he has both previous requirment is ok then shows \"All rounder\" . Otherwise shows 'Still Young'\n",
    "\n",
    "#### (b) Add a column named 'Possible Donation' that shows amount of donation he can give. donation = salary + bonus - 60000\n",
    "\n",
    "#### (c) Optimize this DataFrame and show how much memory you have saved (in percentages)\n",
    "\n",
    "#### (d) Show a DataFrame that have no duplicate vulues in 'First Name'\n",
    "\n",
    "#### (e)Show a DataFrame that shows people who last login before 10:00am\n",
    "\n",
    "#### (f) Show a DataFrame that shows people who have same name\n",
    "\n",
    "#### (g) Show a DataFrame that shows people who are in either Engineering or Marketing or Sales or Finance or Client Services \n",
    "\n"
   ]
  },
  {
   "cell_type": "markdown",
   "metadata": {},
   "source": [
    "."
   ]
  },
  {
   "cell_type": "markdown",
   "metadata": {},
   "source": [
    "."
   ]
  },
  {
   "cell_type": "markdown",
   "metadata": {},
   "source": [
    "."
   ]
  },
  {
   "cell_type": "markdown",
   "metadata": {},
   "source": [
    "### Problem 3:  Let's we have a csv file of a National Basketball Asociation named 'nba.csv'\n",
    "\n",
    "#### (a) Show a DataFrame where there is no null values\n",
    "\n",
    "#### (b) If College coumn has null value then set it to 'College not found'\n",
    "\n",
    "#### (c) Optimize this DataFrame and show how much memory you have saved (in percentages)\n",
    "\n",
    "#### (d) Add a column named 'Height in Meter' that stores converted height\n",
    "\n",
    "#### (e) Add a column named 'Weight in Kg' that stores converted weight\n",
    "\n",
    "#### (f) Add a column named 'BMI' that shows bmi condition either 'Underweight' or 'Overweight' or 'Healthy'.  Underweight if less than 18.5 bmi, Overweight if more than 24.9 bmi, while the healthy range is 18.5 to 24.9.   BMI = kg/m2 \n",
    "\n",
    "#### (g) Delete Previous 'Height' and 'Weight' columns"
   ]
  },
  {
   "cell_type": "code",
   "execution_count": null,
   "metadata": {},
   "outputs": [],
   "source": []
  }
 ],
 "metadata": {
  "kernelspec": {
   "display_name": "Python 3",
   "language": "python",
   "name": "python3"
  },
  "language_info": {
   "codemirror_mode": {
    "name": "ipython",
    "version": 3
   },
   "file_extension": ".py",
   "mimetype": "text/x-python",
   "name": "python",
   "nbconvert_exporter": "python",
   "pygments_lexer": "ipython3",
   "version": "3.7.6"
  }
 },
 "nbformat": 4,
 "nbformat_minor": 4
}
